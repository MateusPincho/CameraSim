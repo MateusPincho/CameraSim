{
 "cells": [
  {
   "cell_type": "markdown",
   "metadata": {},
   "source": [
    "<p align = \"center\" >\n",
    "    <img src = '../../docs/logo.png' height = \"200\">\n",
    "<p>\n",
    "\n",
    "\n",
    "## Implementation of the DLT camera calibration algorithm"
   ]
  },
  {
   "cell_type": "code",
   "execution_count": 1,
   "metadata": {},
   "outputs": [],
   "source": [
    "# Import librarys\n",
    "import time\n",
    "from math import atan, pi\n",
    "import numpy as np\n",
    "import cv2\n",
    "import random\n",
    "import glob\n",
    "import matplotlib.pyplot as plt\n",
    "from scipy.linalg import svd, rq\n",
    "from coppeliasim_zmqremoteapi_client import RemoteAPIClient"
   ]
  },
  {
   "cell_type": "markdown",
   "metadata": {},
   "source": [
    "## Coppelia Scene config"
   ]
  },
  {
   "cell_type": "code",
   "execution_count": 2,
   "metadata": {},
   "outputs": [],
   "source": [
    "\n",
    "# Connect and configure the simulation \n",
    "client = RemoteAPIClient()\n",
    "sim = client.getObject('sim')\n",
    "\n",
    "# When simulation is not running, ZMQ message handling could be a bit\n",
    "# slow, since the idle loop runs at 8 Hz by default. So let's make\n",
    "# sure that the idle loop runs at full speed for this program:\n",
    "defaultIdleFps = sim.getInt32Param(sim.intparam_idle_fps)   \n",
    "sim.setInt32Param(sim.intparam_idle_fps, 0)\n",
    "\n",
    "# Get the vision sensor handle\n",
    "visionSensorHandle = sim.getObject('/Vision_sensor')\n",
    "cubo = sim.getObject('/Cuboid[3]')"
   ]
  },
  {
   "cell_type": "markdown",
   "metadata": {},
   "source": [
    "### Recover parameters from scene"
   ]
  },
  {
   "cell_type": "code",
   "execution_count": 3,
   "metadata": {},
   "outputs": [],
   "source": [
    "def get_perspective_angle(focal_length, sensor_size):\n",
    "    perspective_angle = 2*atan(sensor_size / (2*focal_length))\n",
    "    perspective_angle = perspective_angle*(180/pi)\n",
    "    print(perspective_angle)\n",
    "    return perspective_angle"
   ]
  },
  {
   "cell_type": "code",
   "execution_count": 4,
   "metadata": {},
   "outputs": [
    {
     "name": "stdout",
     "output_type": "stream",
     "text": [
      "62.369949317476774\n",
      "The camera matrix is: \n",
      " [[-3.04000000e+00  1.64000000e+03  1.69066627e-10  1.07844035e+03]\n",
      " [-1.01985301e-09  1.23200000e+03  3.04000000e+00  8.07047732e+02]\n",
      " [-8.27292428e-13  1.00000000e+00  1.03472786e-13  6.58429641e-01]]\n"
     ]
    }
   ],
   "source": [
    "focal_length = 3.04\n",
    "sensor_size = 3.68\n",
    "perspective_angle = get_perspective_angle(focal_length,sensor_size)\n",
    "\n",
    "image_size = (3280,2464) # Defined in vision sensor parameters\n",
    "\n",
    "pixel_density = (891.304347826,892.753623188) #Defined by the sensor resolution\n",
    "\n",
    "# Create K matrix \n",
    "k_matrix = np.array([[focal_length, 0, image_size[0]/2],\n",
    "                    [0, focal_length, image_size[1]/2],\n",
    "                    [0, 0, 1]], dtype=np.float64)\n",
    "\n",
    "sim.startSimulation()  # Start simulation in CoppeliaSim\n",
    "\n",
    "# Get Vision_sensor transformation matrix (R and t related to world coordinate frame)\n",
    "transformation_matrix = sim.getObjectMatrix(visionSensorHandle, -1)\n",
    "transformation_matrix = np.array(transformation_matrix).reshape(3,4)\n",
    "\n",
    "sim.stopSimulation() #Stop simulation in CoppeliaSim\n",
    "\n",
    "rotation_matrix = transformation_matrix[:,:3]\n",
    "translation_vector = transformation_matrix[:,3:]\n",
    "\n",
    "# Create camera matrix C\n",
    "camera_matrix_original = k_matrix @ transformation_matrix\n",
    "print(\"The camera matrix is: \\n\",camera_matrix_original)"
   ]
  },
  {
   "cell_type": "markdown",
   "metadata": {},
   "source": [
    "### Extract world points"
   ]
  },
  {
   "cell_type": "code",
   "execution_count": 32,
   "metadata": {},
   "outputs": [],
   "source": [
    "# Visible points in calibration object, a cube with 30 cm width\n",
    "\n",
    "world_points = np.array([[0.,2.,0.], #\n",
    "                        [1.,0.,0.], #\n",
    "                        [2.,0.,0.], #\n",
    "                        [3.,0.,0.], #\n",
    "                        [0.,3.,1.], #\n",
    "                        [0.,2.,1.], #\n",
    "                        [0.,1.,1.], #\n",
    "                        [1.,0.,1.], #\n",
    "                        [2.,0.,1.], #\n",
    "                        [3.,0.,1.], #\n",
    "                        [0.,3.,2.], #\n",
    "                        [0.,2.,2.], #\n",
    "                        [0.,1.,2.], #\n",
    "                        [1.,0.,2.], #\n",
    "                        [2.,0.,2.], #\n",
    "                        [3.,0.,2.], #\n",
    "                        [0.,3.,3.], #\n",
    "                        [0.,2.,3.], #\n",
    "                        [0.,1.,3.], #\n",
    "                        [1.,0.,3.], # \n",
    "                        [2.,0.,3.], #\n",
    "                        [3.,0.,3.], #\n",
    "                        [1.,1.,3.], #\n",
    "                        [2.,3.,3.], # \n",
    "                        [2.,2.,3.], #\n",
    "                        [2.,1.,3.], #\n",
    "                        [3.,2.,3.]])#"
   ]
  },
  {
   "cell_type": "code",
   "execution_count": null,
   "metadata": {},
   "outputs": [],
   "source": []
  },
  {
   "cell_type": "markdown",
   "metadata": {},
   "source": [
    "### Load the calibration images"
   ]
  },
  {
   "cell_type": "code",
   "execution_count": 33,
   "metadata": {},
   "outputs": [],
   "source": [
    "image = cv2.imread('../../calibration-images/cube/image1.jpg') "
   ]
  },
  {
   "cell_type": "markdown",
   "metadata": {},
   "source": [
    "### Extract image points"
   ]
  },
  {
   "cell_type": "code",
   "execution_count": 34,
   "metadata": {},
   "outputs": [
    {
     "name": "stdout",
     "output_type": "stream",
     "text": [
      "number of corners detected:  27\n",
      "[[[564.3152  252.68439]]\n",
      "\n",
      " [[694.6928  243.68637]]\n",
      "\n",
      " [[826.42706 233.55133]]\n",
      "\n",
      " [[625.03827 261.8383 ]]\n",
      "\n",
      " [[573.5912  340.64044]]\n",
      "\n",
      " [[883.82324 385.4333 ]]\n",
      "\n",
      " [[530.44305 407.4186 ]]\n",
      "\n",
      " [[640.3677  443.95663]]\n",
      "\n",
      " [[589.8389  503.97058]]\n",
      "\n",
      " [[759.52905 226.50145]]\n",
      "\n",
      " [[834.59064 490.49197]]\n",
      "\n",
      " [[640.3723  214.56644]]\n",
      "\n",
      " [[772.36536 436.53787]]\n",
      "\n",
      " [[882.011   217.62466]]\n",
      "\n",
      " [[632.4177  355.56662]]\n",
      "\n",
      " [[762.4857  252.42708]]\n",
      "\n",
      " [[582.48773 424.63785]]\n",
      "\n",
      " [[695.0399  220.20595]]\n",
      "\n",
      " [[829.6393  323.54968]]\n",
      "\n",
      " [[746.915   206.28847]]\n",
      "\n",
      " [[768.48425 346.7792 ]]\n",
      "\n",
      " [[777.3517  521.30194]]\n",
      "\n",
      " [[831.4153  409.56305]]\n",
      "\n",
      " [[510.4737  245.18546]]\n",
      "\n",
      " [[521.0537  327.31122]]\n",
      "\n",
      " [[883.33    303.22266]]\n",
      "\n",
      " [[886.38837 462.90256]]]\n"
     ]
    },
    {
     "data": {
      "image/png": "[encoded data removed]",
      "text/plain": [
       "<Figure size 640x480 with 1 Axes>"
      ]
     },
     "metadata": {},
     "output_type": "display_data"
    },
    {
     "data": {
      "text/plain": [
       "(<matplotlib.image.AxesImage at 0x7f534e9f1e50>, None)"
      ]
     },
     "execution_count": 34,
     "metadata": {},
     "output_type": "execute_result"
    }
   ],
   "source": [
    "# convert image to gray scale image \n",
    "gray = cv2.cvtColor(image, cv2.COLOR_BGR2GRAY) \n",
    "    \n",
    "# detect corners with the goodFeaturesToTrack function. \n",
    "corners = cv2.goodFeaturesToTrack(gray, 27, 0.01, 10) \n",
    "    \n",
    "print(\"number of corners detected: \",corners.shape[0])\n",
    "    \n",
    "# Set the needed parameters to find the refined corners\n",
    "winSize = (5, 5)\n",
    "zeroZone = (-1, -1)\n",
    "criteria = (cv2.TERM_CRITERIA_EPS + cv2.TermCriteria_COUNT, 40, 0.001)\n",
    "# Calculate the refined corner locations\n",
    "corners = cv2.cornerSubPix(gray, corners, winSize, zeroZone, criteria)\n",
    "\n",
    "print(corners)\n",
    "\n",
    "# we iterate through each corner,  \n",
    "# making a circle at each point that we think is a corner. \n",
    "corners = np.intp(corners) \n",
    "for i in corners: \n",
    "    x, y = i.ravel()\n",
    "    cv2.circle(image, (x, y), 3, 255, -1) \n",
    "    \n",
    "plt.imshow(image), plt.show() "
   ]
  },
  {
   "cell_type": "code",
   "execution_count": 35,
   "metadata": {},
   "outputs": [],
   "source": [
    "# For my implementation, the image corners are: \n",
    "image_points =   np.array([[589.8389, 503.97058],\n",
    "                          [777.3517,  521.30194],\n",
    "                          [834.59064, 490.49197],\n",
    "                          [886.38837, 462.90256],\n",
    "                          [530.44305, 407.4186],\n",
    "                          [582.48773, 424.63785],\n",
    "                          [640.3677,  443.95663],\n",
    "                          [772.36536, 436.53787],\n",
    "                          [831.4153,  409.56305],\n",
    "                          [883.82324, 385.4333],\n",
    "                          [521.0537,  327.31122],\n",
    "                          [573.5912, 340.64044],\n",
    "                          [632.4177,  355.56662],\n",
    "                          [768.48425, 346.7792],\n",
    "                          [829.6393,  323.54968],\n",
    "                          [883.33,    303.22266],\n",
    "                          [510.4737,  245.18546],\n",
    "                          [564.3152,  252.68439],\n",
    "                          [625.03827, 261.8383 ],\n",
    "                          [762.4857,  252.42708],\n",
    "                          [826.42706, 233.55133],\n",
    "                          [882.011,   217.62466],\n",
    "                          [694.6928,  243.68637],\n",
    "                          [640.3723,  214.56644],\n",
    "                          [695.0399,  220.20595],\n",
    "                          [759.52905, 226.50145],\n",
    "                          [746.915,   206.28847]])"
   ]
  },
  {
   "cell_type": "markdown",
   "metadata": {},
   "source": [
    "### Normalize points"
   ]
  },
  {
   "cell_type": "code",
   "execution_count": null,
   "metadata": {},
   "outputs": [],
   "source": [
    "def normalize_points(points):\n",
    "# Verifica se a matriz já tem 3 colunas (coordenadas homogêneas)\n",
    "    if points.shape[1] == 3:\n",
    "        # Adiciona uma coluna de 1's para manter a consistência com o processo abaixo\n",
    "        points_homogeneous = np.hstack((points, np.ones((len(points), 1))))\n",
    "    else:\n",
    "        # Adiciona uma coluna de 1's para criar coordenadas homogêneas\n",
    "        points_homogeneous = np.hstack((points, np.ones((len(points), 1))))\n",
    "\n",
    "    # Calcula a média e a escala para normalização\n",
    "    mean = np.mean(points_homogeneous, axis=0)\n",
    "    scale = np.sqrt(2) / np.mean(np.linalg.norm(points_homogeneous - mean, axis=1))\n",
    "\n",
    "    # Matriz de transformação\n",
    "    T = np.array([[scale, 0, -scale * mean[0]],\n",
    "                  [0, scale, -scale * mean[1]],\n",
    "                  [0, 0, 1]])\n",
    "\n",
    "    # Normaliza os pontos\n",
    "    normalized_points = np.dot(T, points_homogeneous.T).T[:, :2]\n",
    "\n",
    "    return normalized_points, T\n",
    "\n",
    "world_points_normalized, T_world = normalize_points(world_points)\n",
    "image_points_normalized, T_image = normalize_points(image_points)\n",
    "\n",
    "world_points_normalized"
   ]
  },
  {
   "cell_type": "markdown",
   "metadata": {},
   "source": [
    "## Compute the calibration matrix"
   ]
  },
  {
   "cell_type": "code",
   "execution_count": 37,
   "metadata": {},
   "outputs": [],
   "source": [
    "# Função para encontrar a matriz de câmera C usando o algoritmo DLT.\n",
    "def calibrate_camera(world_points, image_points):\n",
    "\n",
    "    if len(world_points) != len(image_points): \n",
    "        raise ValueError(\"Must be the same number of World points and Image points\")\n",
    "            \n",
    "    if len(world_points) < 6 | len(image_points) < 6 :\n",
    "        raise ValueError(\"Must have a minimum of 6 points to compute the camera matrix\")\n",
    "\n",
    "    Q = []\n",
    "    for i in range(len(world_points)):\n",
    "        X, Y, Z = world_points[i]\n",
    "        u,v  = image_points[i]\n",
    "        Q.append([X, Y, Z, 1, 0, 0, 0, 0, -u*X, -u*Y, -u*Z, -u])\n",
    "        Q.append([0, 0, 0, 0, X, Y, Z, 1, -v*X, -v*Y, -v*Z, -v])\n",
    "\n",
    "    Q = np.array(Q)\n",
    "\n",
    "    # Resolva o sistema de equações usando SVD\n",
    "    _, _, V = svd(Q)\n",
    "    c = V[-1, :12]\n",
    "\n",
    "    # Reconstrua a matriz de projeção da câmera\n",
    "    C_matrix = c.reshape(3, 4)\n",
    "    print(C_matrix)\n",
    "\n",
    "    return C_matrix\n",
    "\n",
    "def extract_camera_parameters(projection_matrix):\n",
    "    # Decompor a matriz de projeção em RQ (decomposição de R e Q)\n",
    "    K, RT = rq(projection_matrix, mode='full')\n",
    "    \n",
    "    # Certificar-se de que a diagonal da matriz intrínseca K seja positiva\n",
    "    if K[0, 0] < 0:\n",
    "        K = -K\n",
    "        RT = -RT\n",
    "\n",
    "    # Extrair a matriz de rotação R\n",
    "    R = RT[:3, :3]\n",
    "\n",
    "    # Extrair o vetor de translação t\n",
    "    t = RT[:3, 3]\n",
    "\n",
    "    return K[:, 1:], R, t"
   ]
  },
  {
   "cell_type": "code",
   "execution_count": 53,
   "metadata": {},
   "outputs": [
    {
     "name": "stdout",
     "output_type": "stream",
     "text": [
      "[[ 1.18540954e-01 -2.38782116e-02 -2.69986082e-02  7.77567173e-01]\n",
      " [-4.71610730e-03  8.48602233e-03 -1.10895629e-01  6.06337321e-01]\n",
      " [ 6.30996600e-05  7.29881631e-05 -2.88164052e-05  1.09011685e-03]]\n"
     ]
    }
   ],
   "source": [
    "camera_matrix_dlt = calibrate_camera(world_points,image_points)\n"
   ]
  },
  {
   "cell_type": "code",
   "execution_count": 56,
   "metadata": {},
   "outputs": [],
   "source": [
    "def project_points(camera_matrix, world_points):\n",
    "    project_image_points = []\n",
    "    homogeneuos_world_points = np.hstack((world_points, np.ones((world_points.shape[0], 1))))\n",
    "    for point in homogeneuos_world_points:\n",
    "        image_point = camera_matrix @ point\n",
    "        project_image_points.append(image_point)\n",
    "    return project_image_points"
   ]
  },
  {
   "cell_type": "code",
   "execution_count": 61,
   "metadata": {},
   "outputs": [
    {
     "data": {
      "text/plain": [
       "[array([1700.01071174,  952.89708531,    2.65842964]),\n",
       " array([416.97071174, 232.89708531,   0.65842964]),\n",
       " array([413.93071174, 232.89708531,   0.65842964]),\n",
       " array([410.89071174, 232.89708531,   0.65842964]),\n",
       " array([2340.01071174, 1315.93708531,    3.65842964]),\n",
       " array([1700.01071174,  955.93708531,    2.65842964]),\n",
       " array([1060.01071174,  595.93708531,    1.65842964]),\n",
       " array([416.97071174, 235.93708531,   0.65842964]),\n",
       " array([413.93071174, 235.93708531,   0.65842964]),\n",
       " array([410.89071174, 235.93708531,   0.65842964]),\n",
       " array([2340.01071174, 1318.97708531,    3.65842964]),\n",
       " array([1700.01071174,  958.97708531,    2.65842964]),\n",
       " array([1060.01071174,  598.97708531,    1.65842964]),\n",
       " array([416.97071174, 238.97708531,   0.65842964]),\n",
       " array([413.93071174, 238.97708531,   0.65842964]),\n",
       " array([410.89071174, 238.97708531,   0.65842964]),\n",
       " array([2340.01071174, 1322.01708531,    3.65842964]),\n",
       " array([1700.01071174,  962.01708531,    2.65842964]),\n",
       " array([1060.01071174,  602.01708531,    1.65842964]),\n",
       " array([416.97071174, 242.01708531,   0.65842964]),\n",
       " array([413.93071174, 242.01708531,   0.65842964]),\n",
       " array([410.89071174, 242.01708531,   0.65842964]),\n",
       " array([1056.97071174,  602.01708531,    1.65842964]),\n",
       " array([2333.93071174, 1322.01708531,    3.65842964]),\n",
       " array([1693.93071174,  962.01708531,    2.65842964]),\n",
       " array([1053.93071174,  602.01708531,    1.65842964]),\n",
       " array([1690.89071174,  962.01708531,    2.65842964])]"
      ]
     },
     "execution_count": 61,
     "metadata": {},
     "output_type": "execute_result"
    }
   ],
   "source": [
    "original_image_points =project_points(camera_matrix_original,world_points)\n",
    "original_image_points"
   ]
  }
 ],
 "metadata": {
  "kernelspec": {
   "display_name": "Python 3",
   "language": "python",
   "name": "python3"
  },
  "language_info": {
   "codemirror_mode": {
    "name": "ipython",
    "version": 3
   },
   "file_extension": ".py",
   "mimetype": "text/x-python",
   "name": "python",
   "nbconvert_exporter": "python",
   "pygments_lexer": "ipython3",
   "version": "3.10.12"
  }
 },
 "nbformat": 4,
 "nbformat_minor": 2
}
