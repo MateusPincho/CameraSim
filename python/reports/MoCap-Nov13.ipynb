{
 "cells": [
  {
   "cell_type": "markdown",
   "metadata": {},
   "source": [
    "# Report - 13th Noveber - MoCap Rasp: Camera Calibration\n",
    "> Mateus Pincho de Oliveira\n",
    "\n",
    "## Atividades da semana: \n",
    "Durante os dias 06 a 12 de novembro, foram realizadas as seguintes atividades: \n",
    "\n",
    "### Divisão dos notebooks da calibração\n",
    "\n",
    "Para realizar a calibração, foram criados dois *Notebooks Python* para: \n",
    "- Capturar as imagens no Coppelia\n",
    "\n",
    "- Detectar os pontos do objeto de calibração nas imagens\n",
    "\n",
    "- Calibrar a câmera com os pontos detectados\n",
    "\n",
    "- Analisar o resultado da calibração\n",
    "\n",
    "Cada notebook é para performar um tipo de calibração dentre as duas que estou estudando: Tsai e Zhang (OpenCV). Assim, posso comparar os resultados das duas calibrações\n",
    "\n",
    "--- \n",
    "\n",
    "### Nova resolução das imagens para ser compátivel com o formato da câmera V2\n",
    "\n",
    "Para que seja possível simular as câmeras utilizadas no laborátorio, estou colocando Sensores Visuais (Câmeras no Coppelia) com a mesma resolução das câmeras V2. \n",
    "\n",
    "--- \n",
    "\n",
    "### Teste do algoritmo DLT\n",
    "\n",
    "A implementação do algoritmo de calibração DLT necessitava ser testada. Para isso, utilizou-se a cena `calibrate.ttt` do simulador *CoppeliaSim* para testar a implementação do algoritmo. Para calibrar, foi criado um objeto de calibração com 30 cm de largura. Foi localizar os pontos de interesse na imagem, foi utilizado o algoritmo *Good Features to Track*, que retorna a localização, em pixels, de cada canto do objeto de calibração. \n",
    "\n",
    "Dados os pontos na imagem e no mundo real, coloca-los como entrada do algoritmo de calibração para encontrar a matriz de projeção da câmera utilizada - nesse caso, o sensor visual do Coppelia.  \n",
    "\n",
    "---\n",
    "\n",
    "### Formas de verificar a qualidade da calibração\n",
    "\n",
    "Após implementar o algoritmo de calibração, é preciso uma metodologia para verificar se os valores encontrados estão condizentes. \n",
    "\n",
    "O primeiro parâmetro a ser verificado é o erro de reprojeção, que é a diferença entre a posição do ponto detectado na imagem e a sua projeção utilizando a matriz de câmera encontrada na calibração. Quanto menor essa diferença, significa que a matriz de câmera estimada é capaz de projetar os pontos corretamente. \n",
    "\n",
    "Foi preciso criar uma função para estimar o erro de reprojeção. Para computar o erro, deve ser utilizado: \n",
    "- Norma da diferença? \n",
    "\n",
    "- Erro Quadrático?\n",
    "\n",
    "- Plots - visualizar onde estão os pontos projetados na imagem e se eles condizem com a realidade\n",
    "\n",
    "- Project Images - está correto? \n",
    "    - Verificar com os as matrizes originais se os pontos projetados batem com os pontos detectados\n"
   ]
  }
 ],
 "metadata": {
  "language_info": {
   "name": "python"
  }
 },
 "nbformat": 4,
 "nbformat_minor": 2
}
