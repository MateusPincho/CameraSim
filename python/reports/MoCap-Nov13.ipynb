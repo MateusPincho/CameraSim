{
 "cells": [
  {
   "cell_type": "markdown",
   "metadata": {},
   "source": [
    "# Report - 13th Noveber - MoCap Rasp: Camera Calibration\n",
    "> Mateus Pincho de Oliveira\n",
    "\n",
    "## Atividades da semana: \n",
    "Durante os dias 06 a 12 de novembro, foram realizadas as seguintes atividades: \n",
    "\n",
    "### Divisão dos notebooks da calibração\n",
    "Para realizar a calibração, foram criados dois *Notebooks Python* para: \n",
    "- Capturar as imagens no Coppelia\n",
    "- Detectar os pontos do objeto de calibração nas imagens\n",
    "- Calibrar a câmera com os pontos detectados\n",
    "- Analisar o resultado da calibração\n",
    "\n",
    "Cada notebook é para performar um tipo de calibração dentre as duas que estou estudando: Tsai e Zhang (OpenCV). \n",
    "\n",
    "### Nova resolução das imagens para ser compátivel com o formato da câmera V2\n",
    "Para que seja possível simular as câmeras utilizadas no laborátorio\n",
    "\n",
    "\n",
    "- Teste do algoritmo DLT\n",
    "- Formas de verificar a qualidade da calibração \n",
    "- Plots \n",
    "- Project Images - está correto? \n",
    "    - Verificar com os as matrizes originais se os pontos projetados batem com os pontos detectados\n"
   ]
  }
 ],
 "metadata": {
  "language_info": {
   "name": "python"
  }
 },
 "nbformat": 4,
 "nbformat_minor": 2
}
