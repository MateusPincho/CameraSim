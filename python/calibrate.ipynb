{
 "cells": [
  {
   "cell_type": "code",
   "execution_count": 39,
   "metadata": {},
   "outputs": [],
   "source": [
    "import glob\n",
    "import cv2\n",
    "import matplotlib.pyplot as plt\n",
    "import numpy as np\n",
    "\n",
    "criteria = (cv2.TERM_CRITERIA_EPS + cv2.TERM_CRITERIA_MAX_ITER, 30, 0.001)\n",
    "\n",
    "images = glob.glob('../calibration-images/*.jpg')\n"
   ]
  },
  {
   "cell_type": "code",
   "execution_count": 40,
   "metadata": {},
   "outputs": [],
   "source": [
    "patternSize = (7,7)\n",
    "squareSize = (10)\n",
    "imgSize = (1280,720)\n",
    "\n",
    "def construct3DPoints(patternSize,squareSize):\n",
    "    X = np.zeros((patternSize[0]*patternSize[1],3), np.float32)\n",
    "    X[:,:2] = np.mgrid[0:patternSize[0],0:patternSize[1]].T.reshape(-1,2)\n",
    "    X = X * squareSize\n",
    "    return X\n",
    "\n",
    "boardPoints = construct3DPoints(patternSize,squareSize)\n",
    "worldPoints = []\n",
    "imagePoints = [] "
   ]
  },
  {
   "cell_type": "code",
   "execution_count": 41,
   "metadata": {},
   "outputs": [
    {
     "name": "stdout",
     "output_type": "stream",
     "text": [
      "Corners found in image../calibration-images/image5.jpg\n",
      "Corners found in image../calibration-images/image3.jpg\n",
      "Corners found in image../calibration-images/image2.jpg\n",
      "Corners found in image../calibration-images/image4.jpg\n",
      "Corners found in image../calibration-images/image1.jpg\n",
      "Corners found in image../calibration-images/image7.jpg\n",
      "Corners found in image../calibration-images/image6.jpg\n",
      "using 7 images\n"
     ]
    }
   ],
   "source": [
    "counter = 0\n",
    "for fname in images:\n",
    "    img = cv2.imread(fname)\n",
    "    gray = cv2.cvtColor(img, cv2.COLOR_BGR2GRAY)\n",
    "    ret, corners = cv2.findChessboardCornersSB(gray, patternSize, None)\n",
    "    if ret == True:\n",
    "        print(\"Corners found in image\" + str(fname)) #- see if corners are found \n",
    "        imagePoints.append(corners)\n",
    "        worldPoints.append(boardPoints)\n",
    "        counter+=1\n",
    "\n",
    "print(\"using \" + str(counter) + \" images\")"
   ]
  },
  {
   "cell_type": "code",
   "execution_count": 42,
   "metadata": {},
   "outputs": [
    {
     "name": "stdout",
     "output_type": "stream",
     "text": [
      "Using 7 of 7 images\n",
      "RMS re-projection error: 0.2823487864500124\n",
      "Camera Matrix:\n",
      " [[1.12310203e+03 0.00000000e+00 6.33336776e+02]\n",
      " [0.00000000e+00 1.12297398e+03 3.61203581e+02]\n",
      " [0.00000000e+00 0.00000000e+00 1.00000000e+00]]\n",
      "Distortion Parameters:\n",
      " [[-8.84147696e+00  4.99414589e+01  4.50787979e-04 -1.85475747e-03\n",
      "  -8.76951801e+01 -8.81474874e+00  4.96391196e+01 -8.68913919e+01\n",
      "   0.00000000e+00  0.00000000e+00  0.00000000e+00  0.00000000e+00\n",
      "   0.00000000e+00  0.00000000e+00]]\n"
     ]
    }
   ],
   "source": [
    "flagsCalib = cv2.CALIB_RATIONAL_MODEL\n",
    "ret, cameraMatrix, k, rvecs, tvecs = cv2.calibrateCamera(worldPoints, imagePoints, imgSize, None, None,flags=flagsCalib)\n",
    "\n",
    "print(\"Using \"+str(counter)+\" of \"+str(len(images))+\" images\")\n",
    "print(\"RMS re-projection error:\", ret)\n",
    "print(\"Camera Matrix:\\n\", cameraMatrix)\n",
    "print(\"Distortion Parameters:\\n\", k)"
   ]
  },
  {
   "cell_type": "code",
   "execution_count": null,
   "metadata": {
    "slideshow": {
     "slide_type": "slide"
    }
   },
   "outputs": [],
   "source": [
    "def plot_image_points(image_points):\n",
    "    \"\"\"\n",
    "    Plota os pontos 2D na imagem.\n",
    "\n",
    "    :param image_points: Array de pontos 2D projetados na imagem.\n",
    "    \"\"\"\n",
    "\n",
    "    if image_points.shape[1] != 2:\n",
    "        raise ValueError(\"A matriz de image_points deve ter duas colunas (X e Y).\")\n",
    "    plt.figure(figsize=(8, 6))\n",
    "    plt.scatter(image_points[:, 0], image_points[:, 1], c='b', marker='o', label='Pontos dectados')\n",
    "\n",
    "\n",
    "    plt.xlabel('Coordenada X na Imagem')\n",
    "    plt.ylabel('Coordenada Y na Imagem')\n",
    "    plt.title('Pontos 2D na Imagem')\n",
    "    plt.grid()\n",
    "    plt.legend()\n",
    "    plt.show()\n",
    "\n",
    "def plot_points(image_points, projected_points, image_path=None):\n",
    "    \"\"\"\n",
    "    Plota os pontos detectados na imagem e os pontos projetados pela câmera.\n",
    "\n",
    "    :param image_points: Pontos 2D observados nas imagens reais.\n",
    "    :param projected_points: Tupla de arrays com pontos projetados a partir da projeção dos pontos 3D.\n",
    "    :param image_path: Caminho para a imagem de fundo (opcional).\n",
    "    \"\"\"\n",
    "    plt.figure()\n",
    "\n",
    "    # Plota os pontos detectados na imagem (pontos originais) em azul\n",
    "    plt.scatter(image_points[:, 0], image_points[:, 1], color='blue', label='Pontos Originais')\n",
    "\n",
    "    for points in projected_points:\n",
    "        # Garante que points seja bidimensional (Nx2)\n",
    "        if points.shape[1] == 1:\n",
    "            points = points.reshape(-1, 2)\n",
    "        plt.scatter(points[:, 0], points[:, 1], color='red', label='Pontos Projetados')\n",
    "\n",
    "    # Define rótulos e legenda\n",
    "    plt.xlabel('Coordenada X')\n",
    "    plt.ylabel('Coordenada Y')\n",
    "    plt.legend()\n",
    "\n",
    "    # Se um caminho de imagem for fornecido, plote a imagem de fundo\n",
    "    if image_path:\n",
    "        img = plt.imread(image_path)\n",
    "        plt.imshow(img, extent=[0, img.shape[1], 0, img.shape[0]], alpha=0.5)\n",
    "\n",
    "    plt.show()\n",
    "\n",
    "\n",
    "imagePoints = []\n",
    "image_test = cv2.imread('../calibration-images/image1.jpg')\n",
    "gray = cv2.cvtColor(image_test, cv2.COLOR_BGR2GRAY)\n",
    "ret, corners = cv2.findChessboardCornersSB(gray, patternSize, None)\n",
    "if ret == True:\n",
    "    print(\"Corners found in image\") #- see if corners are found \n",
    "    imagePoints.append(corners)\n",
    "\n",
    "worldPoints = np.array(worldPoints)\n",
    "\n",
    "projectedImagePoints = cv2.projectPoints(objectPoints = boardPoints.reshape(-1,1,3),\n",
    "                                         rvec = rvecs[0].reshape(-1,3),\n",
    "                                         tvec = tvecs[0].reshape(-1,3),\n",
    "                                         cameraMatrix = cameraMatrix,\n",
    "                                        distCoeffs = k)\n",
    "\n",
    "#projectedImagePoints  = projectedImagePoints.reshape(-1,2).astype(float)\n",
    "\n",
    "imagePoints = np.array(imagePoints)\n",
    "imagePoints = imagePoints.reshape(-1,2)\n",
    "print(projectedImagePoints)\n",
    "\n",
    "plot_points(imagePoints,projectedImagePoints)"
   ]
  },
  {
   "cell_type": "code",
   "execution_count": null,
   "metadata": {},
   "outputs": [],
   "source": []
  }
 ],
 "metadata": {
  "kernelspec": {
   "display_name": "Python 3",
   "language": "python",
   "name": "python3"
  },
  "language_info": {
   "codemirror_mode": {
    "name": "ipython",
    "version": 3
   },
   "file_extension": ".py",
   "mimetype": "text/x-python",
   "name": "python",
   "nbconvert_exporter": "python",
   "pygments_lexer": "ipython3",
   "version": "3.8.10"
  }
 },
 "nbformat": 4,
 "nbformat_minor": 2
}
