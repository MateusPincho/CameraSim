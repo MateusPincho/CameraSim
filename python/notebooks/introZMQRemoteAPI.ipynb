{
 "cells": [
  {
   "cell_type": "markdown",
   "metadata": {},
   "source": [
    "## Para iniciar uma conexão com a simulação "
   ]
  },
  {
   "cell_type": "code",
   "execution_count": 3,
   "metadata": {},
   "outputs": [
    {
     "name": "stdout",
     "output_type": "stream",
     "text": [
      "Simulation time: 0.00 [s]\n",
      "Simulation time: 0.05 [s]\n",
      "Simulation time: 0.10 [s]\n",
      "Simulation time: 0.15 [s]\n",
      "Simulation time: 0.20 [s]\n",
      "Simulation time: 0.25 [s]\n",
      "Simulation time: 0.30 [s]\n",
      "Simulation time: 0.35 [s]\n",
      "Simulation time: 0.40 [s]\n",
      "Simulation time: 0.45 [s]\n",
      "Simulation time: 0.50 [s]\n",
      "Simulation time: 0.55 [s]\n",
      "Simulation time: 0.60 [s]\n",
      "Simulation time: 0.65 [s]\n",
      "Simulation time: 0.70 [s]\n",
      "Simulation time: 0.75 [s]\n",
      "Simulation time: 0.80 [s]\n",
      "Simulation time: 0.85 [s]\n",
      "Simulation time: 0.90 [s]\n",
      "Simulation time: 0.95 [s]\n",
      "Simulation time: 1.00 [s]\n",
      "Simulation time: 1.05 [s]\n",
      "Simulation time: 1.10 [s]\n",
      "Simulation time: 1.15 [s]\n",
      "Simulation time: 1.20 [s]\n",
      "Simulation time: 1.25 [s]\n",
      "Simulation time: 1.30 [s]\n",
      "Simulation time: 1.35 [s]\n",
      "Simulation time: 1.40 [s]\n",
      "Simulation time: 1.45 [s]\n",
      "Simulation time: 1.50 [s]\n",
      "Simulation time: 1.55 [s]\n",
      "Simulation time: 1.60 [s]\n",
      "Simulation time: 1.65 [s]\n",
      "Simulation time: 1.70 [s]\n",
      "Simulation time: 1.75 [s]\n",
      "Simulation time: 1.80 [s]\n",
      "Simulation time: 1.85 [s]\n",
      "Simulation time: 1.90 [s]\n",
      "Simulation time: 1.95 [s]\n",
      "Simulation time: 2.00 [s]\n",
      "Simulation time: 2.05 [s]\n",
      "Simulation time: 2.10 [s]\n",
      "Simulation time: 2.15 [s]\n",
      "Simulation time: 2.20 [s]\n",
      "Simulation time: 2.25 [s]\n",
      "Simulation time: 2.30 [s]\n",
      "Simulation time: 2.35 [s]\n",
      "Simulation time: 2.40 [s]\n",
      "Simulation time: 2.45 [s]\n",
      "Simulation time: 2.50 [s]\n",
      "Simulation time: 2.55 [s]\n",
      "Simulation time: 2.60 [s]\n",
      "Simulation time: 2.65 [s]\n",
      "Simulation time: 2.70 [s]\n",
      "Simulation time: 2.75 [s]\n",
      "Simulation time: 2.80 [s]\n",
      "Simulation time: 2.85 [s]\n",
      "Simulation time: 2.90 [s]\n",
      "Simulation time: 2.95 [s]\n",
      "Simulation time: 3.00 [s]\n"
     ]
    },
    {
     "data": {
      "text/plain": [
       "1"
      ]
     },
     "execution_count": 3,
     "metadata": {},
     "output_type": "execute_result"
    }
   ],
   "source": [
    "import time\n",
    "from coppeliasim_zmqremoteapi_client import RemoteAPIClient\n",
    "\n",
    "client = RemoteAPIClient()\n",
    "sim = client.getObject('sim')\n",
    "\n",
    "client.setStepping(True)\n",
    "\n",
    "sim.startSimulation()\n",
    "while (t := sim.getSimulationTime()) < 3:\n",
    "    s = f'Simulation time: {t:.2f} [s]'\n",
    "    print(s)\n",
    "    client.step()\n",
    "sim.stopSimulation()"
   ]
  }
 ],
 "metadata": {
  "kernelspec": {
   "display_name": "Python 3",
   "language": "python",
   "name": "python3"
  },
  "language_info": {
   "codemirror_mode": {
    "name": "ipython",
    "version": 3
   },
   "file_extension": ".py",
   "mimetype": "text/x-python",
   "name": "python",
   "nbconvert_exporter": "python",
   "pygments_lexer": "ipython3",
   "version": "3.8.10"
  }
 },
 "nbformat": 4,
 "nbformat_minor": 2
}
